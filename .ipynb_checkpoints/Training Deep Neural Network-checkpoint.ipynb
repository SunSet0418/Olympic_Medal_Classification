{
 "cells": [
  {
   "cell_type": "markdown",
   "metadata": {},
   "source": [
    "# Training Model (DNN)"
   ]
  },
  {
   "cell_type": "markdown",
   "metadata": {},
   "source": [
    "### Import "
   ]
  },
  {
   "cell_type": "code",
   "execution_count": 18,
   "metadata": {},
   "outputs": [],
   "source": [
    "import csv\n",
    "import tensorflow as tf\n",
    "import numpy as np"
   ]
  },
  {
   "cell_type": "markdown",
   "metadata": {},
   "source": [
    "### Set Variable"
   ]
  },
  {
   "cell_type": "code",
   "execution_count": 19,
   "metadata": {},
   "outputs": [],
   "source": [
    "data_x = []\n",
    "data_y = []\n",
    "\n",
    "test_x = []\n",
    "test_y = []\n",
    "\n",
    "train_x = tf.placeholder(tf.float32, shape=[None, 3])\n",
    "train_y = tf.placeholder(tf.float32, shape=[None, 1])"
   ]
  },
  {
   "cell_type": "markdown",
   "metadata": {},
   "source": [
    "### Read Dataset"
   ]
  },
  {
   "cell_type": "code",
   "execution_count": 20,
   "metadata": {},
   "outputs": [],
   "source": [
    "def read_data():\n",
    "    dataset = []\n",
    "    with open('dataset/athlete_events.csv', 'r', encoding='utf-8') as f:\n",
    "\n",
    "        reader = csv.reader(f)\n",
    "\n",
    "        for row in reader:\n",
    "            json = {}\n",
    "\n",
    "            if row[3] == 'NA' or row[4] == 'NA' or row[5] == 'NA' or row[14] == 'NA':\n",
    "                pass\n",
    "\n",
    "            else:\n",
    "                json['age'] = row[3]\n",
    "                json['height'] = row[4]\n",
    "                json['weight'] = row[5]\n",
    "                json['medal'] = row[14]\n",
    "                dataset.append(json)\n",
    "\n",
    "        del dataset[0]\n",
    "\n",
    "    return dataset\n",
    "\n",
    "\n",
    "def set_train_data():\n",
    "    \n",
    "    datas = read_data()\n",
    "\n",
    "    for row in datas:\n",
    "        tmp = []\n",
    "\n",
    "        tmp.append(float(row['age']))\n",
    "        tmp.append(float(row['height']))\n",
    "        tmp.append(float(row['weight']))\n",
    "\n",
    "        data_x.append(tmp)\n",
    "\n",
    "        if row['medal'] == 'Gold':\n",
    "            data_y.append([1])\n",
    "        elif row['medal'] == 'Silver':\n",
    "            data_y.append([2])\n",
    "        elif row['medal'] == 'Bronze':\n",
    "            data_y.append([3])\n",
    "        else:\n",
    "            data_y.append(row['medal'])\n",
    "\n",
    "    global test_x\n",
    "    test_x = data_x[29181:]\n",
    "    del data_x[29181:]\n",
    "    \n",
    "    global test_y\n",
    "    test_y = data_y[29181:]\n",
    "    del data_y[29181:]\n",
    "\n",
    "    x_shape = np.array(data_x)\n",
    "    y_shape = np.array(data_y)\n",
    "\n",
    "    tx_shape = np.array(test_x)\n",
    "    ty_shape = np.array(test_y)\n",
    "\n",
    "    print(\"data_X Shape : \", x_shape.shape)\n",
    "    print(\"data_Y Shape : \", y_shape.shape)\n",
    "\n",
    "    print(\"tdata_X Shape : \", tx_shape.shape)\n",
    "    print(\"tdata_Y Shape : \", ty_shape.shape)"
   ]
  },
  {
   "cell_type": "markdown",
   "metadata": {},
   "source": [
    "### Set Dataset"
   ]
  },
  {
   "cell_type": "code",
   "execution_count": 21,
   "metadata": {},
   "outputs": [
    {
     "name": "stdout",
     "output_type": "stream",
     "text": [
      "data_X Shape :  (29181, 3)\n",
      "data_Y Shape :  (29181, 1)\n",
      "tdata_X Shape :  (1000, 3)\n",
      "tdata_Y Shape :  (1000, 1)\n"
     ]
    }
   ],
   "source": [
    "set_train_data()"
   ]
  },
  {
   "cell_type": "markdown",
   "metadata": {},
   "source": [
    "### Set Model"
   ]
  },
  {
   "cell_type": "code",
   "execution_count": 22,
   "metadata": {},
   "outputs": [],
   "source": [
    "w1 = tf.Variable(tf.random_normal([3, 5]))\n",
    "b1 = tf.Variable(tf.random_normal([5]))\n",
    "l1 = tf.nn.relu(tf.add(tf.matmul(train_x, w1), b1))\n",
    "\n",
    "w2 = tf.Variable(tf.random_normal([5, 5]))\n",
    "b2 = tf.Variable(tf.random_normal([5]))\n",
    "l2 = tf.nn.relu(tf.add(tf.matmul(l1, w2), b2))\n",
    "\n",
    "w3 = tf.Variable(tf.random_normal([5, 5]))\n",
    "b3 = tf.Variable(tf.random_normal([5]))\n",
    "l3 = tf.nn.relu(tf.add(tf.matmul(l2, w3), b3))\n",
    "\n",
    "w4 = tf.Variable(tf.random_normal([5, 1]))\n",
    "b4 = tf.Variable(tf.random_normal([1]))\n",
    "hypothesis = tf.add(tf.matmul(l3, w4), b4)\n",
    "\n",
    "cost = tf.losses.mean_squared_error(labels=train_y, predictions=hypothesis)\n",
    "\n",
    "learning_rate = 0.01\n",
    "\n",
    "train = tf.train.AdamOptimizer(learning_rate=learning_rate).minimize(cost)"
   ]
  },
  {
   "cell_type": "markdown",
   "metadata": {},
   "source": [
    "### Set Saver"
   ]
  },
  {
   "cell_type": "code",
   "execution_count": 23,
   "metadata": {},
   "outputs": [],
   "source": [
    "saver = tf.train.Saver()\n",
    "\n",
    "save_path = \"./checkpoints/olympic_nn_model.ckpt\""
   ]
  },
  {
   "cell_type": "markdown",
   "metadata": {},
   "source": [
    "### Train"
   ]
  },
  {
   "cell_type": "code",
   "execution_count": 24,
   "metadata": {},
   "outputs": [
    {
     "name": "stdout",
     "output_type": "stream",
     "text": [
      "Learning Start!\n",
      "STEP : 0 Cost : 4161268.8\n",
      "STEP : 200 Cost : 365.36182\n",
      "STEP : 400 Cost : 318.46112\n",
      "STEP : 600 Cost : 277.13995\n",
      "STEP : 800 Cost : 240.91077\n",
      "STEP : 1000 Cost : 207.74011\n",
      "STEP : 1200 Cost : 177.05577\n",
      "STEP : 1400 Cost : 149.59148\n",
      "STEP : 1600 Cost : 125.394485\n",
      "STEP : 1800 Cost : 104.47318\n",
      "STEP : 2000 Cost : 86.684654\n",
      "STEP : 2200 Cost : 71.86816\n",
      "STEP : 2400 Cost : 59.418537\n",
      "STEP : 2600 Cost : 49.15562\n",
      "STEP : 2800 Cost : 40.706116\n",
      "STEP : 3000 Cost : 33.792423\n",
      "STEP : 3200 Cost : 28.109167\n",
      "STEP : 3400 Cost : 23.418705\n",
      "STEP : 3600 Cost : 19.579922\n",
      "STEP : 3800 Cost : 16.426092\n",
      "STEP : 4000 Cost : 13.843324\n",
      "STEP : 4200 Cost : 11.722402\n",
      "STEP : 4400 Cost : 9.956093\n",
      "STEP : 4600 Cost : 8.499797\n",
      "STEP : 4800 Cost : 7.286039\n",
      "STEP : 5000 Cost : 6.2673097\n",
      "STEP : 5200 Cost : 5.403753\n",
      "STEP : 5400 Cost : 4.6818695\n",
      "STEP : 5600 Cost : 4.0754476\n",
      "STEP : 5800 Cost : 3.561355\n",
      "STEP : 6000 Cost : 3.1286352\n",
      "STEP : 6200 Cost : 2.765\n",
      "STEP : 6400 Cost : 2.4544723\n",
      "STEP : 6600 Cost : 2.1944084\n",
      "STEP : 6800 Cost : 1.970613\n",
      "STEP : 7000 Cost : 1.7804192\n",
      "STEP : 7200 Cost : 1.620513\n",
      "STEP : 7400 Cost : 1.4866877\n",
      "STEP : 7600 Cost : 1.3717549\n",
      "STEP : 7800 Cost : 1.2740498\n",
      "STEP : 8000 Cost : 1.1911968\n",
      "STEP : 8200 Cost : 1.1189113\n",
      "STEP : 8400 Cost : 1.0570263\n",
      "STEP : 8600 Cost : 1.0044026\n",
      "STEP : 8800 Cost : 0.95951265\n",
      "STEP : 9000 Cost : 0.92079204\n",
      "STEP : 9200 Cost : 0.7664895\n",
      "STEP : 9400 Cost : 0.7606242\n",
      "STEP : 9600 Cost : 0.7555466\n",
      "STEP : 9800 Cost : 0.75104856\n",
      "STEP : 10000 Cost : 0.74665546\n",
      "Saving Model...\n",
      "Save Successful!\n",
      "Model Test...\n",
      "[array([[1.9554727]], dtype=float32)]\n",
      "Checking Accuracy...\n",
      "Accuracy : 100.0 %\n",
      "Finished\n"
     ]
    }
   ],
   "source": [
    "with tf.Session() as sess:\n",
    "    \n",
    "    # Initialize\n",
    "    init = tf.global_variables_initializer()\n",
    "    sess.run(init)\n",
    "\n",
    "    # TensorBoard Setting\n",
    "    cost_summ = tf.summary.scalar(\"cost\", cost)\n",
    "    summary = tf.summary.merge_all()\n",
    "    writer = tf.summary.FileWriter('./log')\n",
    "    writer.add_graph(sess.graph)\n",
    "\n",
    "    # Learning Start\n",
    "    print(\"Learning Start!\")\n",
    "    for step in range(10001):\n",
    "        cost_v, _ = sess.run([cost, train], feed_dict={train_x: data_x, train_y: data_y})\n",
    "        if step % 200 == 0:\n",
    "            print(\"STEP :\", step, \"Cost :\", cost_v)\n",
    "            \n",
    "            \n",
    "    # Model Save\n",
    "    print(\"Saving Model...\")        \n",
    "    saver.save(sess, save_path)\n",
    "    print(\"Save Successful!\")\n",
    "\n",
    "    # Model Testing\n",
    "    print(\"Model Test...\")\n",
    "    result = sess.run([hypothesis], feed_dict={train_x: [[22.0, 185.0, 82.0]]})\n",
    "    print(result)\n",
    "\n",
    "    # Check Accuracy\n",
    "    print(\"Checking Accuracy...\")\n",
    "    correct_prediction = tf.equal(tf.argmax(hypothesis, 1), tf.argmax(train_y, 1))\n",
    "    accuracy = tf.reduce_mean(tf.cast(correct_prediction, tf.float32))\n",
    "    print(\"Accuracy :\",sess.run(accuracy, feed_dict={train_x: test_x, train_y: test_y}) * 100,\"%\")\n",
    "\n",
    "    print(\"Finished\")"
   ]
  },
  {
   "cell_type": "markdown",
   "metadata": {},
   "source": [
    "### Using Model"
   ]
  },
  {
   "cell_type": "code",
   "execution_count": 25,
   "metadata": {},
   "outputs": [
    {
     "name": "stdout",
     "output_type": "stream",
     "text": [
      "INFO:tensorflow:Restoring parameters from ./checkpoints/olympic_nn_model.ckpt\n",
      "Weight : 85\n",
      "Height : 174\n",
      "How Old : 24\n",
      "Model Test...\n",
      "[2.0260086]\n",
      "Finished\n"
     ]
    }
   ],
   "source": [
    "sess = tf.Session()\n",
    "\n",
    "# Model Restore\n",
    "saver.restore(sess, save_path)\n",
    "    \n",
    "# Input Values\n",
    "weight = input(\"Weight : \")\n",
    "height = input(\"Height : \")\n",
    "old = input(\"How Old : \")\n",
    "\n",
    "# Model Testing\n",
    "print(\"Model Test...\")\n",
    "result = sess.run(hypothesis, feed_dict={train_x: [[old, height, weight]]})\n",
    "print(result[0])\n",
    "\n",
    "print(\"Finished\")\n",
    "    "
   ]
  }
 ],
 "metadata": {
  "kernelspec": {
   "display_name": "Python 3",
   "language": "python",
   "name": "python3"
  },
  "language_info": {
   "codemirror_mode": {
    "name": "ipython",
    "version": 3
   },
   "file_extension": ".py",
   "mimetype": "text/x-python",
   "name": "python",
   "nbconvert_exporter": "python",
   "pygments_lexer": "ipython3",
   "version": "3.6.5"
  }
 },
 "nbformat": 4,
 "nbformat_minor": 2
}
